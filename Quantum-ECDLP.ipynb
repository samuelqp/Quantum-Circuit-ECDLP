{
 "cells": [
  {
   "metadata": {},
   "cell_type": "markdown",
   "source": "# Quantum Circuit ECDLP",
   "id": "4ca35a234405b3b4"
  },
  {
   "metadata": {},
   "cell_type": "markdown",
   "source": "WORK IN PROGRESS - see elliptic-curves.ipynb",
   "id": "eb51cb60c1a06c4a"
  },
  {
   "metadata": {},
   "cell_type": "code",
   "outputs": [],
   "execution_count": null,
   "source": "",
   "id": "92784914061c69dc"
  }
 ],
 "metadata": {
  "kernelspec": {
   "display_name": "Python 3",
   "language": "python",
   "name": "python3"
  },
  "language_info": {
   "codemirror_mode": {
    "name": "ipython",
    "version": 2
   },
   "file_extension": ".py",
   "mimetype": "text/x-python",
   "name": "python",
   "nbconvert_exporter": "python",
   "pygments_lexer": "ipython2",
   "version": "2.7.6"
  }
 },
 "nbformat": 4,
 "nbformat_minor": 5
}
