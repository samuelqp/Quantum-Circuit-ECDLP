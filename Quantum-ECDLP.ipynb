{
 "cells": [
  {
   "metadata": {},
   "cell_type": "markdown",
   "source": "# Quantum Circuit ECDLP",
   "id": "4ca35a234405b3b4"
  },
  {
   "metadata": {},
   "cell_type": "markdown",
   "source": "",
   "id": "eb51cb60c1a06c4a"
  },
  {
   "metadata": {
    "ExecuteTime": {
     "end_time": "2025-04-03T22:16:07.622701Z",
     "start_time": "2025-04-03T22:16:07.620033Z"
    }
   },
   "cell_type": "code",
   "source": "print(\"hello\")",
   "id": "8a3b93e62eb70ab5",
   "outputs": [
    {
     "name": "stdout",
     "output_type": "stream",
     "text": [
      "hello\n"
     ]
    }
   ],
   "execution_count": 1
  },
  {
   "metadata": {},
   "cell_type": "code",
   "outputs": [],
   "execution_count": null,
   "source": "",
   "id": "92784914061c69dc"
  }
 ],
 "metadata": {
  "kernelspec": {
   "display_name": "Python 3",
   "language": "python",
   "name": "python3"
  },
  "language_info": {
   "codemirror_mode": {
    "name": "ipython",
    "version": 2
   },
   "file_extension": ".py",
   "mimetype": "text/x-python",
   "name": "python",
   "nbconvert_exporter": "python",
   "pygments_lexer": "ipython2",
   "version": "2.7.6"
  }
 },
 "nbformat": 4,
 "nbformat_minor": 5
}
